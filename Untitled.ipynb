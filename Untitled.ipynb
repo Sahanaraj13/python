{
 "cells": [
  {
   "cell_type": "code",
   "execution_count": 1,
   "id": "8db7e836",
   "metadata": {},
   "outputs": [
    {
     "name": "stdout",
     "output_type": "stream",
     "text": [
      "hello\n"
     ]
    }
   ],
   "source": [
    "print (\"hello\")"
   ]
  },
  {
   "cell_type": "code",
   "execution_count": 2,
   "id": "4fd2f5d6",
   "metadata": {},
   "outputs": [
    {
     "name": "stdout",
     "output_type": "stream",
     "text": [
      "hi\n",
      "welcome\n"
     ]
    }
   ],
   "source": [
    "## this isa simple print statement - with demo of single line comment\n",
    "print (\"hi\")\n",
    "#print (\"hello\")\n",
    "print (\"welcome\")"
   ]
  },
  {
   "cell_type": "markdown",
   "id": "1b004d46",
   "metadata": {},
   "source": [
    "# multi line comment has three quotes at front and three quotes and back , the inbetween data will be printed \n",
    "\n",
    "\"\"\"\n",
    "HI\n",
    "HELLO\n",
    "WELCOME\n",
    "\n",
    "\"\"\""
   ]
  },
  {
   "cell_type": "code",
   "execution_count": 7,
   "id": "4c72075c",
   "metadata": {},
   "outputs": [
    {
     "name": "stdout",
     "output_type": "stream",
     "text": [
      "enter your namesahana\n"
     ]
    },
    {
     "data": {
      "text/plain": [
       "'sahana'"
      ]
     },
     "execution_count": 7,
     "metadata": {},
     "output_type": "execute_result"
    }
   ],
   "source": [
    "input (\"enter your name\")"
   ]
  },
  {
   "cell_type": "code",
   "execution_count": 10,
   "id": "6140779e",
   "metadata": {},
   "outputs": [
    {
     "name": "stdout",
     "output_type": "stream",
     "text": [
      "raj\n"
     ]
    }
   ],
   "source": [
    "#if a is variable and \"is value\"\n",
    "\n",
    "a =\"raj\"\n",
    "print(a)"
   ]
  },
  {
   "cell_type": "code",
   "execution_count": 11,
   "id": "9490b3de",
   "metadata": {},
   "outputs": [
    {
     "name": "stdout",
     "output_type": "stream",
     "text": [
      "raj\n"
     ]
    }
   ],
   "source": [
    "print(a)\n"
   ]
  },
  {
   "cell_type": "code",
   "execution_count": 16,
   "id": "c2a4b397",
   "metadata": {},
   "outputs": [],
   "source": [
    "### data types\n"
   ]
  },
  {
   "cell_type": "code",
   "execution_count": 17,
   "id": "f9fcb415",
   "metadata": {},
   "outputs": [],
   "source": [
    "#string- anything that comes in double quotes"
   ]
  },
  {
   "cell_type": "code",
   "execution_count": 35,
   "id": "f699501a",
   "metadata": {},
   "outputs": [],
   "source": [
    "a = \"sachintendulkar\""
   ]
  },
  {
   "cell_type": "code",
   "execution_count": 36,
   "id": "e35aa6e9",
   "metadata": {},
   "outputs": [
    {
     "name": "stdout",
     "output_type": "stream",
     "text": [
      "<class 'str'>\n"
     ]
    }
   ],
   "source": [
    "print(type(a))"
   ]
  },
  {
   "cell_type": "code",
   "execution_count": 37,
   "id": "4f0dec0f",
   "metadata": {},
   "outputs": [
    {
     "name": "stdout",
     "output_type": "stream",
     "text": [
      "True\n"
     ]
    }
   ],
   "source": [
    "print(isinstance(a,str))"
   ]
  },
  {
   "cell_type": "code",
   "execution_count": null,
   "id": "02beb4f1",
   "metadata": {},
   "outputs": [],
   "source": [
    "### there are two types to find the data type\n",
    "1.assign a=\"variable\n",
    "print(type(a))\"\n",
    "\n",
    "2. print(instance(a,str))\n",
    "it tells where it is true or false"
   ]
  },
  {
   "cell_type": "code",
   "execution_count": 39,
   "id": "807c96d7",
   "metadata": {},
   "outputs": [
    {
     "name": "stdout",
     "output_type": "stream",
     "text": [
      "15\n"
     ]
    }
   ],
   "source": [
    "print(len(a)) #gets the length"
   ]
  },
  {
   "cell_type": "code",
   "execution_count": 40,
   "id": "edac1241",
   "metadata": {},
   "outputs": [
    {
     "name": "stdout",
     "output_type": "stream",
     "text": [
      "a\n",
      "u\n",
      "['a', 'a', 'c', 'd', 'e', 'h', 'i', 'k', 'l', 'n', 'n', 'r', 's', 't', 'u']\n"
     ]
    }
   ],
   "source": [
    "print(min(a))\n",
    "print(max(a))\n",
    "print(sorted(a))"
   ]
  },
  {
   "cell_type": "code",
   "execution_count": 41,
   "id": "2463c6c6",
   "metadata": {},
   "outputs": [
    {
     "name": "stdout",
     "output_type": "stream",
     "text": [
      "False\n",
      "True\n"
     ]
    }
   ],
   "source": [
    "print(a.isupper())\n",
    "print(a.islower())"
   ]
  },
  {
   "cell_type": "code",
   "execution_count": 42,
   "id": "bdb4b844",
   "metadata": {},
   "outputs": [
    {
     "name": "stdout",
     "output_type": "stream",
     "text": [
      "SACHINTENDULKAR\n",
      "sachintendulkar\n",
      "SACHINTENDULKAR\n"
     ]
    }
   ],
   "source": [
    "print(a.upper())\n",
    "print(a.lower())\n",
    "print(a.swapcase())"
   ]
  },
  {
   "cell_type": "code",
   "execution_count": 44,
   "id": "ea5a2fdd",
   "metadata": {},
   "outputs": [
    {
     "name": "stdout",
     "output_type": "stream",
     "text": [
      "True\n",
      "True\n",
      "False\n"
     ]
    }
   ],
   "source": [
    "print(a.isalpha()) #is space is there alpha and alnum shows false \n",
    "print(a.isalnum()) #alpha or num\n",
    "print(a.isdigit())"
   ]
  },
  {
   "cell_type": "code",
   "execution_count": 45,
   "id": "0121d0ba",
   "metadata": {},
   "outputs": [],
   "source": [
    "a=\"sachin tendulkar\""
   ]
  },
  {
   "cell_type": "code",
   "execution_count": 46,
   "id": "122167f5",
   "metadata": {},
   "outputs": [
    {
     "name": "stdout",
     "output_type": "stream",
     "text": [
      "n\n"
     ]
    }
   ],
   "source": [
    "print(a[5])"
   ]
  },
  {
   "cell_type": "code",
   "execution_count": 47,
   "id": "b46c7201",
   "metadata": {},
   "outputs": [],
   "source": [
    "### start : end : interval"
   ]
  },
  {
   "cell_type": "code",
   "execution_count": 48,
   "id": "027a977f",
   "metadata": {},
   "outputs": [
    {
     "name": "stdout",
     "output_type": "stream",
     "text": [
      "hin ten\n"
     ]
    }
   ],
   "source": [
    "print(a[3:10])"
   ]
  },
  {
   "cell_type": "code",
   "execution_count": 49,
   "id": "8f7d4b08",
   "metadata": {},
   "outputs": [
    {
     "name": "stdout",
     "output_type": "stream",
     "text": [
      "sachin tendulkar\n"
     ]
    }
   ],
   "source": [
    "print(a[:])"
   ]
  },
  {
   "cell_type": "code",
   "execution_count": 50,
   "id": "4a48b05f",
   "metadata": {},
   "outputs": [
    {
     "name": "stdout",
     "output_type": "stream",
     "text": [
      "sachin tendulkar\n"
     ]
    }
   ],
   "source": [
    "print(a[::1])"
   ]
  },
  {
   "cell_type": "code",
   "execution_count": 51,
   "id": "9898f945",
   "metadata": {},
   "outputs": [
    {
     "name": "stdout",
     "output_type": "stream",
     "text": [
      "sci edla\n"
     ]
    }
   ],
   "source": [
    "print(a[::2])"
   ]
  },
  {
   "cell_type": "code",
   "execution_count": 54,
   "id": "956507c3",
   "metadata": {},
   "outputs": [
    {
     "name": "stdout",
     "output_type": "stream",
     "text": [
      "r\n"
     ]
    }
   ],
   "source": [
    "print(a[-1])  ## reverse coding for last letter"
   ]
  },
  {
   "cell_type": "code",
   "execution_count": 55,
   "id": "94adc225",
   "metadata": {},
   "outputs": [
    {
     "name": "stdout",
     "output_type": "stream",
     "text": [
      "rakludnet nihcas\n"
     ]
    }
   ],
   "source": [
    "print(a[::-1])  ##how to reverse a string"
   ]
  },
  {
   "cell_type": "code",
   "execution_count": 56,
   "id": "fb4a52c1",
   "metadata": {},
   "outputs": [
    {
     "name": "stdout",
     "output_type": "stream",
     "text": [
      "k\n"
     ]
    }
   ],
   "source": [
    "print(a[-3])"
   ]
  },
  {
   "cell_type": "code",
   "execution_count": 60,
   "id": "d2e80925",
   "metadata": {},
   "outputs": [
    {
     "name": "stdout",
     "output_type": "stream",
     "text": [
      "rkuntnha\n"
     ]
    }
   ],
   "source": [
    "print(a[::-2])"
   ]
  },
  {
   "cell_type": "code",
   "execution_count": 64,
   "id": "516da04c",
   "metadata": {},
   "outputs": [
    {
     "name": "stdout",
     "output_type": "stream",
     "text": [
      "0\n"
     ]
    }
   ],
   "source": [
    "##\n",
    "print(a.index(\"s\"))"
   ]
  },
  {
   "cell_type": "code",
   "execution_count": 65,
   "id": "151794c9",
   "metadata": {},
   "outputs": [
    {
     "name": "stdout",
     "output_type": "stream",
     "text": [
      "1\n"
     ]
    }
   ],
   "source": [
    "print(a.index(\"a\"))"
   ]
  },
  {
   "cell_type": "code",
   "execution_count": 66,
   "id": "a38a90da",
   "metadata": {},
   "outputs": [
    {
     "name": "stdout",
     "output_type": "stream",
     "text": [
      "14\n"
     ]
    }
   ],
   "source": [
    "print(a.index(\"a\", 2,15))"
   ]
  },
  {
   "cell_type": "code",
   "execution_count": 67,
   "id": "f0f103bb",
   "metadata": {},
   "outputs": [
    {
     "name": "stdout",
     "output_type": "stream",
     "text": [
      "14\n"
     ]
    }
   ],
   "source": [
    "print(a.rindex(\"a\"))"
   ]
  },
  {
   "cell_type": "code",
   "execution_count": 68,
   "id": "5444d43d",
   "metadata": {},
   "outputs": [
    {
     "name": "stdout",
     "output_type": "stream",
     "text": [
      "14\n"
     ]
    }
   ],
   "source": [
    "print(a.index(\"a\",2))"
   ]
  },
  {
   "cell_type": "code",
   "execution_count": 69,
   "id": "d8ac8656",
   "metadata": {},
   "outputs": [
    {
     "name": "stdout",
     "output_type": "stream",
     "text": [
      "1\n",
      "1\n"
     ]
    }
   ],
   "source": [
    "## index , find\n",
    "print(a.index(\"a\"))\n",
    "print(a.find(\"a\"))"
   ]
  },
  {
   "cell_type": "code",
   "execution_count": 70,
   "id": "922b3571",
   "metadata": {},
   "outputs": [
    {
     "name": "stdout",
     "output_type": "stream",
     "text": [
      "hello\n"
     ]
    }
   ],
   "source": [
    "print (\"hello\")"
   ]
  },
  {
   "cell_type": "code",
   "execution_count": 71,
   "id": "c917b2b5",
   "metadata": {},
   "outputs": [
    {
     "name": "stdout",
     "output_type": "stream",
     "text": [
      "sahana\n"
     ]
    }
   ],
   "source": [
    "print (\"sahana\")"
   ]
  },
  {
   "cell_type": "code",
   "execution_count": 72,
   "id": "9e70ab3b",
   "metadata": {},
   "outputs": [
    {
     "name": "stdout",
     "output_type": "stream",
     "text": [
      "sahana\n"
     ]
    }
   ],
   "source": [
    "print(\"sahana\")"
   ]
  },
  {
   "cell_type": "code",
   "execution_count": 73,
   "id": "64c99171",
   "metadata": {},
   "outputs": [
    {
     "ename": "SyntaxError",
     "evalue": "unterminated string literal (detected at line 1) (4154386353.py, line 1)",
     "output_type": "error",
     "traceback": [
      "\u001b[1;36m  Cell \u001b[1;32mIn[73], line 1\u001b[1;36m\u001b[0m\n\u001b[1;33m    print(\"sahana\u001b[0m\n\u001b[1;37m          ^\u001b[0m\n\u001b[1;31mSyntaxError\u001b[0m\u001b[1;31m:\u001b[0m unterminated string literal (detected at line 1)\n"
     ]
    }
   ],
   "source": [
    "print(\"sahana\n",
    "      vasu\")"
   ]
  },
  {
   "cell_type": "code",
   "execution_count": 74,
   "id": "19bb1e1c",
   "metadata": {},
   "outputs": [
    {
     "name": "stdout",
     "output_type": "stream",
     "text": [
      "vasu\n"
     ]
    }
   ],
   "source": [
    "print(\"vasu\")"
   ]
  },
  {
   "cell_type": "code",
   "execution_count": 76,
   "id": "f5c53657",
   "metadata": {},
   "outputs": [
    {
     "name": "stdout",
     "output_type": "stream",
     "text": [
      "sahana\n"
     ]
    }
   ],
   "source": [
    "print(\"sahana\")\n",
    "#print(\"vasunthra\")"
   ]
  },
  {
   "cell_type": "code",
   "execution_count": 77,
   "id": "459f8746",
   "metadata": {},
   "outputs": [
    {
     "name": "stdout",
     "output_type": "stream",
     "text": [
      "enter your age40\n"
     ]
    },
    {
     "data": {
      "text/plain": [
       "'40'"
      ]
     },
     "execution_count": 77,
     "metadata": {},
     "output_type": "execute_result"
    }
   ],
   "source": [
    "input(\"enter your age\")"
   ]
  },
  {
   "cell_type": "code",
   "execution_count": 79,
   "id": "3a31c6a0",
   "metadata": {},
   "outputs": [],
   "source": [
    "a = \"vasunthra\""
   ]
  },
  {
   "cell_type": "code",
   "execution_count": 81,
   "id": "b63ddb1e",
   "metadata": {},
   "outputs": [],
   "source": [
    "a = \"sachin tendulkar \"\n"
   ]
  },
  {
   "cell_type": "code",
   "execution_count": 82,
   "id": "87a0bd5c",
   "metadata": {},
   "outputs": [
    {
     "name": "stdout",
     "output_type": "stream",
     "text": [
      "['s', 'chin tendulk', 'r ']\n",
      "['s', 'chin tendulkar ']\n"
     ]
    }
   ],
   "source": [
    "print(a.split(\"a\"))\n",
    "print(a.split(\"a\",1))"
   ]
  },
  {
   "cell_type": "code",
   "execution_count": 83,
   "id": "52f57811",
   "metadata": {},
   "outputs": [
    {
     "name": "stdout",
     "output_type": "stream",
     "text": [
      "sschin tendulksr \n",
      "sschin tendulkar \n"
     ]
    }
   ],
   "source": [
    "print(a.replace(\"a\",\"s\"))\n",
    "print(a.replace(\"a\" , \"s\",1))"
   ]
  },
  {
   "cell_type": "code",
   "execution_count": 84,
   "id": "44b14b22",
   "metadata": {},
   "outputs": [
    {
     "name": "stdout",
     "output_type": "stream",
     "text": [
      "1\n"
     ]
    }
   ],
   "source": [
    "print(a.count(\"t\"))"
   ]
  },
  {
   "cell_type": "code",
   "execution_count": 85,
   "id": "bea0823a",
   "metadata": {},
   "outputs": [
    {
     "name": "stdout",
     "output_type": "stream",
     "text": [
      "2\n"
     ]
    }
   ],
   "source": [
    "print(a.count(\"a\"))"
   ]
  },
  {
   "cell_type": "code",
   "execution_count": 86,
   "id": "c2ecaee5",
   "metadata": {},
   "outputs": [],
   "source": [
    "a=\"123\"\n",
    "b=123"
   ]
  },
  {
   "cell_type": "code",
   "execution_count": 87,
   "id": "8374f3eb",
   "metadata": {},
   "outputs": [
    {
     "name": "stdout",
     "output_type": "stream",
     "text": [
      "<class 'str'>\n"
     ]
    }
   ],
   "source": [
    "print(type(a))"
   ]
  },
  {
   "cell_type": "code",
   "execution_count": 88,
   "id": "08bf5a69",
   "metadata": {},
   "outputs": [
    {
     "name": "stdout",
     "output_type": "stream",
     "text": [
      "<class 'int'>\n"
     ]
    }
   ],
   "source": [
    "print(type(b))"
   ]
  },
  {
   "cell_type": "code",
   "execution_count": 95,
   "id": "6936f89e",
   "metadata": {},
   "outputs": [
    {
     "name": "stdout",
     "output_type": "stream",
     "text": [
      "123\n",
      "<class 'int'>\n"
     ]
    }
   ],
   "source": [
    "c=int(a)\n",
    "print(c)\n",
    "print(type(c))"
   ]
  },
  {
   "cell_type": "code",
   "execution_count": 97,
   "id": "79c961c1",
   "metadata": {},
   "outputs": [
    {
     "name": "stdout",
     "output_type": "stream",
     "text": [
      "123.0\n"
     ]
    }
   ],
   "source": [
    "### all function which supprted string will not suport integer (int)\n",
    "a=\"123\"\n",
    "b=float(a)  ## float is decimal point\n",
    "print(b)"
   ]
  },
  {
   "cell_type": "code",
   "execution_count": 100,
   "id": "7875da47",
   "metadata": {},
   "outputs": [
    {
     "ename": "TypeError",
     "evalue": "object of type 'int' has no len()",
     "output_type": "error",
     "traceback": [
      "\u001b[1;31m---------------------------------------------------------------------------\u001b[0m",
      "\u001b[1;31mTypeError\u001b[0m                                 Traceback (most recent call last)",
      "Cell \u001b[1;32mIn[100], line 3\u001b[0m\n\u001b[0;32m      1\u001b[0m \u001b[38;5;66;03m### all function which supprted string will not suport integer (int)\u001b[39;00m\n\u001b[0;32m      2\u001b[0m a\u001b[38;5;241m=\u001b[39m\u001b[38;5;241m123\u001b[39m\n\u001b[1;32m----> 3\u001b[0m b\u001b[38;5;241m=\u001b[39m(\u001b[38;5;28;43mlen\u001b[39;49m\u001b[43m(\u001b[49m\u001b[43ma\u001b[49m\u001b[43m)\u001b[49m)\n",
      "\u001b[1;31mTypeError\u001b[0m: object of type 'int' has no len()"
     ]
    }
   ],
   "source": [
    "###  function which supprted string will not suport integer (int)\n",
    "a=123\n",
    "b=(len(a))"
   ]
  },
  {
   "cell_type": "code",
   "execution_count": 116,
   "id": "783fc440",
   "metadata": {},
   "outputs": [],
   "source": [
    "a=[\"arun\",\"28\",\"chennai\"]"
   ]
  },
  {
   "cell_type": "code",
   "execution_count": 102,
   "id": "0552f1e5",
   "metadata": {},
   "outputs": [],
   "source": [
    "#type #instance #min #max #sorted #length #reverse"
   ]
  },
  {
   "cell_type": "code",
   "execution_count": 103,
   "id": "96b35c7a",
   "metadata": {},
   "outputs": [
    {
     "name": "stdout",
     "output_type": "stream",
     "text": [
      "<class 'list'>\n"
     ]
    }
   ],
   "source": [
    "print(type(a))"
   ]
  },
  {
   "cell_type": "code",
   "execution_count": null,
   "id": "f4e4034d",
   "metadata": {},
   "outputs": [],
   "source": []
  },
  {
   "cell_type": "code",
   "execution_count": 104,
   "id": "96fc585e",
   "metadata": {},
   "outputs": [
    {
     "name": "stdout",
     "output_type": "stream",
     "text": [
      "28\n"
     ]
    }
   ],
   "source": [
    "print(min(a))"
   ]
  },
  {
   "cell_type": "code",
   "execution_count": 105,
   "id": "847d240f",
   "metadata": {},
   "outputs": [
    {
     "name": "stdout",
     "output_type": "stream",
     "text": [
      "chennai\n"
     ]
    }
   ],
   "source": [
    "print(max(a))"
   ]
  },
  {
   "cell_type": "code",
   "execution_count": 109,
   "id": "288d48e1",
   "metadata": {},
   "outputs": [
    {
     "name": "stdout",
     "output_type": "stream",
     "text": [
      "False\n"
     ]
    }
   ],
   "source": [
    "print(isinstance(a,str))"
   ]
  },
  {
   "cell_type": "code",
   "execution_count": 117,
   "id": "1eb6147e",
   "metadata": {},
   "outputs": [
    {
     "name": "stdout",
     "output_type": "stream",
     "text": [
      "['28', 'arun', 'chennai']\n"
     ]
    }
   ],
   "source": [
    "print(sorted(a))"
   ]
  },
  {
   "cell_type": "code",
   "execution_count": 111,
   "id": "30f20b69",
   "metadata": {},
   "outputs": [
    {
     "name": "stdout",
     "output_type": "stream",
     "text": [
      "3\n"
     ]
    }
   ],
   "source": [
    "print(len(a))"
   ]
  },
  {
   "cell_type": "code",
   "execution_count": 112,
   "id": "6192a7f7",
   "metadata": {},
   "outputs": [
    {
     "name": "stdout",
     "output_type": "stream",
     "text": [
      "['chennai', '28', 'arun']\n"
     ]
    }
   ],
   "source": [
    "print(a[::-1])\n"
   ]
  },
  {
   "cell_type": "code",
   "execution_count": 124,
   "id": "c46bb07c",
   "metadata": {},
   "outputs": [
    {
     "name": "stdout",
     "output_type": "stream",
     "text": [
      "['arun', '28', 'chennai', 'test']\n"
     ]
    }
   ],
   "source": [
    "a.append(\"test\")  ## append add the extra data at last\n",
    "print(a)"
   ]
  },
  {
   "cell_type": "code",
   "execution_count": 125,
   "id": "85f2a937",
   "metadata": {},
   "outputs": [
    {
     "name": "stdout",
     "output_type": "stream",
     "text": [
      "['arun', '28', 'demo', 'chennai', 'test']\n"
     ]
    }
   ],
   "source": [
    "a.insert(2,\"demo\")  ##insert add the data at specific needed point\n",
    "print(a)"
   ]
  },
  {
   "cell_type": "code",
   "execution_count": 126,
   "id": "b3de9dd2",
   "metadata": {},
   "outputs": [
    {
     "name": "stdout",
     "output_type": "stream",
     "text": [
      "['arun', '28', 'demo', 'chennai']\n"
     ]
    }
   ],
   "source": [
    "a.remove(\"test\")   ## remove -will remove the particular data from the list\n",
    "print(a)"
   ]
  },
  {
   "cell_type": "code",
   "execution_count": 129,
   "id": "1104a751",
   "metadata": {},
   "outputs": [
    {
     "name": "stdout",
     "output_type": "stream",
     "text": [
      "['arun', '28', 'chennai']\n"
     ]
    }
   ],
   "source": [
    "del a[2]  ## instead of using remove we can use del \n",
    "print(a)"
   ]
  },
  {
   "cell_type": "code",
   "execution_count": 51,
   "id": "f2f59c35",
   "metadata": {},
   "outputs": [
    {
     "name": "stdout",
     "output_type": "stream",
     "text": [
      "['test', 'gmail.com']\n"
     ]
    },
    {
     "data": {
      "text/plain": [
       "['gmail', 'com']"
      ]
     },
     "execution_count": 51,
     "metadata": {},
     "output_type": "execute_result"
    }
   ],
   "source": [
    "a=\"test@gmail.com\"\n",
    "#test\n",
    "#gmail\n",
    "print(a.split(\"@\"))\n",
    "b=\"gmail.com\"\n",
    "(b.split(\".\"))\n"
   ]
  },
  {
   "cell_type": "code",
   "execution_count": null,
   "id": "8b2c3295",
   "metadata": {},
   "outputs": [],
   "source": [
    "a=[\"dinesh\",\"suhdn\" , \"chennai\"]\n",
    "3should get the last letter"
   ]
  },
  {
   "cell_type": "code",
   "execution_count": 1,
   "id": "98e30c46",
   "metadata": {},
   "outputs": [],
   "source": [
    "a= \"dhoni\" "
   ]
  },
  {
   "cell_type": "code",
   "execution_count": 2,
   "id": "891f359b",
   "metadata": {},
   "outputs": [
    {
     "name": "stdout",
     "output_type": "stream",
     "text": [
      "dhon\n"
     ]
    }
   ],
   "source": [
    "a=\"test@gmail.com\"\n"
   ]
  },
  {
   "cell_type": "code",
   "execution_count": 3,
   "id": "e2be27c6",
   "metadata": {},
   "outputs": [],
   "source": [
    "a=[\"hi\",\"hello\",\"welcome\"]"
   ]
  },
  {
   "cell_type": "code",
   "execution_count": 4,
   "id": "d7fcba9d",
   "metadata": {},
   "outputs": [],
   "source": [
    "b= a.pop()   ## pop will remove the last element in the list"
   ]
  },
  {
   "cell_type": "code",
   "execution_count": 5,
   "id": "146ded56",
   "metadata": {},
   "outputs": [
    {
     "name": "stdout",
     "output_type": "stream",
     "text": [
      "['hi', 'hello']\n"
     ]
    }
   ],
   "source": [
    "print(a)"
   ]
  },
  {
   "cell_type": "code",
   "execution_count": 6,
   "id": "eb4fe25c",
   "metadata": {},
   "outputs": [
    {
     "name": "stdout",
     "output_type": "stream",
     "text": [
      "welcome\n"
     ]
    }
   ],
   "source": [
    "print(b)"
   ]
  },
  {
   "cell_type": "code",
   "execution_count": 7,
   "id": "530ce897",
   "metadata": {},
   "outputs": [],
   "source": [
    "there are two types of pop :\n",
    "##shallow - same memorry will be allocated for a and b"
   ]
  },
  {
   "cell_type": "code",
   "execution_count": 10,
   "id": "64b6f5ba",
   "metadata": {},
   "outputs": [
    {
     "name": "stdout",
     "output_type": "stream",
     "text": [
      "[1, 2, 3, 4]\n",
      "[1, 2, 3, 4]\n"
     ]
    }
   ],
   "source": [
    "a=[1,2,3]\n",
    "b = a\n",
    "a.append(4)\n",
    "print(a)\n",
    "print(b)"
   ]
  },
  {
   "cell_type": "code",
   "execution_count": 11,
   "id": "f4439374",
   "metadata": {},
   "outputs": [
    {
     "name": "stdout",
     "output_type": "stream",
     "text": [
      "[1, 2, 3, 4]\n",
      "[1, 2, 3]\n"
     ]
    }
   ],
   "source": [
    "### deep - different memorry will be allocated for a and b \n",
    "a=[1,2,3]\n",
    "b = a.copy()\n",
    "a.append(4)\n",
    "print(a)\n",
    "print(b)"
   ]
  },
  {
   "cell_type": "code",
   "execution_count": 12,
   "id": "292b201f",
   "metadata": {},
   "outputs": [],
   "source": [
    "## in list only index will worrk rindex or find will not be appliace\n"
   ]
  },
  {
   "cell_type": "code",
   "execution_count": 13,
   "id": "d98e4ee4",
   "metadata": {},
   "outputs": [
    {
     "name": "stdout",
     "output_type": "stream",
     "text": [
      "0\n"
     ]
    }
   ],
   "source": [
    "a=[\"hi\" , \"hello\" , \"welcome\"]\n",
    "print(a.index(\"hi\"))"
   ]
  },
  {
   "cell_type": "code",
   "execution_count": 14,
   "id": "5293e7b0",
   "metadata": {},
   "outputs": [
    {
     "ename": "AttributeError",
     "evalue": "'list' object has no attribute 'find'",
     "output_type": "error",
     "traceback": [
      "\u001b[1;31m---------------------------------------------------------------------------\u001b[0m",
      "\u001b[1;31mAttributeError\u001b[0m                            Traceback (most recent call last)",
      "Cell \u001b[1;32mIn[14], line 1\u001b[0m\n\u001b[1;32m----> 1\u001b[0m \u001b[38;5;28mprint\u001b[39m(\u001b[43ma\u001b[49m\u001b[38;5;241;43m.\u001b[39;49m\u001b[43mfind\u001b[49m(\u001b[38;5;124m\"\u001b[39m\u001b[38;5;124mhi\u001b[39m\u001b[38;5;124m\"\u001b[39m))\n",
      "\u001b[1;31mAttributeError\u001b[0m: 'list' object has no attribute 'find'"
     ]
    }
   ],
   "source": [
    "print(a.find(\"hi\")) ## as find is not applicable in list"
   ]
  },
  {
   "cell_type": "code",
   "execution_count": 22,
   "id": "cc7a819e",
   "metadata": {},
   "outputs": [
    {
     "name": "stdout",
     "output_type": "stream",
     "text": [
      "<class 'tuple'>\n",
      "False\n",
      "hello\n",
      "welcome\n",
      "['hello', 'hi', 'welcome']\n",
      "hi\n"
     ]
    }
   ],
   "source": [
    "a=(\"hi\" , \"hello\" , \"welcome\")\n",
    "print(type(a))\n",
    "print(isinstance(a,str))\n",
    "print (min(a))\n",
    "print(max(a))\n",
    "print(sorted(a))\n",
    "print(a[0])"
   ]
  },
  {
   "cell_type": "code",
   "execution_count": 26,
   "id": "8c65f0d5",
   "metadata": {},
   "outputs": [
    {
     "ename": "AttributeError",
     "evalue": "'tuple' object has no attribute 'append'",
     "output_type": "error",
     "traceback": [
      "\u001b[1;31m---------------------------------------------------------------------------\u001b[0m",
      "\u001b[1;31mAttributeError\u001b[0m                            Traceback (most recent call last)",
      "Cell \u001b[1;32mIn[26], line 1\u001b[0m\n\u001b[1;32m----> 1\u001b[0m \u001b[43ma\u001b[49m\u001b[38;5;241;43m.\u001b[39;49m\u001b[43mappend\u001b[49m(\u001b[38;5;124m\"\u001b[39m\u001b[38;5;124myes\u001b[39m\u001b[38;5;124m\"\u001b[39m)\n",
      "\u001b[1;31mAttributeError\u001b[0m: 'tuple' object has no attribute 'append'"
     ]
    }
   ],
   "source": [
    "a.append(\"yes\")  "
   ]
  },
  {
   "cell_type": "code",
   "execution_count": null,
   "id": "14492edc",
   "metadata": {},
   "outputs": [],
   "source": [
    "(diff between list and tupple - tupple cannot be changed as like list) \n",
    "                  ( list is mutable can be changed and it is slow)\n",
    "                  (tupple is immutable and fast which has normal brackets)"
   ]
  },
  {
   "cell_type": "code",
   "execution_count": 30,
   "id": "2a7af7c6",
   "metadata": {},
   "outputs": [],
   "source": [
    "a ={1,6,8,9,6,4,6,8}"
   ]
  },
  {
   "cell_type": "code",
   "execution_count": 31,
   "id": "cbfbb831",
   "metadata": {},
   "outputs": [
    {
     "name": "stdout",
     "output_type": "stream",
     "text": [
      "{1, 4, 6, 8, 9}\n"
     ]
    }
   ],
   "source": [
    "print(a)"
   ]
  },
  {
   "cell_type": "code",
   "execution_count": 32,
   "id": "44c25200",
   "metadata": {},
   "outputs": [
    {
     "name": "stdout",
     "output_type": "stream",
     "text": [
      "<class 'set'>\n"
     ]
    }
   ],
   "source": [
    "print(type(a))   ## no duplicates , no index concept "
   ]
  },
  {
   "cell_type": "code",
   "execution_count": 33,
   "id": "8a6c7cc6",
   "metadata": {},
   "outputs": [],
   "source": [
    "a={1,2,3,4,5}\n",
    "b={3,4,5,6,7}"
   ]
  },
  {
   "cell_type": "code",
   "execution_count": 34,
   "id": "9c282314",
   "metadata": {},
   "outputs": [
    {
     "name": "stdout",
     "output_type": "stream",
     "text": [
      "{1, 2, 3, 4, 5, 6, 7}\n",
      "{3, 4, 5}\n",
      "{1, 2}\n",
      "{6, 7}\n"
     ]
    }
   ],
   "source": [
    "print(a.union(b))\n",
    "print(a.intersection(b))\n",
    "print(a.difference(b))\n",
    "print(b.difference (a))"
   ]
  },
  {
   "cell_type": "code",
   "execution_count": 35,
   "id": "44b5f6d5",
   "metadata": {},
   "outputs": [
    {
     "name": "stdout",
     "output_type": "stream",
     "text": [
      "False\n",
      "False\n"
     ]
    }
   ],
   "source": [
    "print(a.issubset(b))\n",
    "print(b.issubset(a))"
   ]
  },
  {
   "cell_type": "code",
   "execution_count": 36,
   "id": "9806e0ac",
   "metadata": {},
   "outputs": [
    {
     "name": "stdout",
     "output_type": "stream",
     "text": [
      "False\n",
      "False\n"
     ]
    }
   ],
   "source": [
    "print(a.issuperset(b))\n",
    "print(b.issuperset(a))"
   ]
  },
  {
   "cell_type": "code",
   "execution_count": 38,
   "id": "e3b79cb4",
   "metadata": {},
   "outputs": [
    {
     "name": "stdout",
     "output_type": "stream",
     "text": [
      "{1, 2, 3, 4, 5, 8}\n"
     ]
    }
   ],
   "source": [
    "a.add(8)\n",
    "print(a)"
   ]
  },
  {
   "cell_type": "code",
   "execution_count": 40,
   "id": "9c91c7fa",
   "metadata": {},
   "outputs": [
    {
     "name": "stdout",
     "output_type": "stream",
     "text": [
      "{1, 3, 4, 5, 8}\n"
     ]
    }
   ],
   "source": [
    "a.remove(2)\n",
    "print(a)"
   ]
  },
  {
   "cell_type": "code",
   "execution_count": 52,
   "id": "8c13fa3f",
   "metadata": {},
   "outputs": [],
   "source": [
    "a=[[\"kiran\",\"20\",\"trichy\"],[\"madurai\",\"arun\" ,\"24\"]]\n",
    "#dictionary - key colon value"
   ]
  },
  {
   "cell_type": "code",
   "execution_count": 63,
   "id": "97224d71",
   "metadata": {},
   "outputs": [
    {
     "name": "stdout",
     "output_type": "stream",
     "text": [
      "<class 'dict'>\n",
      "False\n",
      "True\n",
      "name\n",
      "age\n",
      "['age', 'loc', 'name']\n"
     ]
    }
   ],
   "source": [
    "a={\"name\": \"kiran\" , \"age\" :20 , \"loc\" : \"trichy\"}\n",
    "print(type(a))\n",
    "print(isinstance(a,str))\n",
    "print(isinstance(a,dict))\n",
    "print(max(a))\n",
    "print(min(a))\n",
    "print(sorted(a))\n"
   ]
  },
  {
   "cell_type": "code",
   "execution_count": 64,
   "id": "abe9a077",
   "metadata": {},
   "outputs": [
    {
     "data": {
      "text/plain": [
       "dict_keys(['name', 'age', 'loc'])"
      ]
     },
     "execution_count": 64,
     "metadata": {},
     "output_type": "execute_result"
    }
   ],
   "source": [
    "a.keys() -- gives list"
   ]
  },
  {
   "cell_type": "code",
   "execution_count": 65,
   "id": "92dc4ba5",
   "metadata": {},
   "outputs": [
    {
     "data": {
      "text/plain": [
       "dict_values(['kiran', 20, 'trichy'])"
      ]
     },
     "execution_count": 65,
     "metadata": {},
     "output_type": "execute_result"
    }
   ],
   "source": [
    "a.values()  -- gives list"
   ]
  },
  {
   "cell_type": "code",
   "execution_count": 66,
   "id": "79a8cc9f",
   "metadata": {},
   "outputs": [
    {
     "data": {
      "text/plain": [
       "dict_items([('name', 'kiran'), ('age', 20), ('loc', 'trichy')])"
      ]
     },
     "execution_count": 66,
     "metadata": {},
     "output_type": "execute_result"
    }
   ],
   "source": [
    "a.items() -- inside list tuple is there"
   ]
  },
  {
   "cell_type": "code",
   "execution_count": 67,
   "id": "ecbfa05f",
   "metadata": {},
   "outputs": [
    {
     "name": "stdout",
     "output_type": "stream",
     "text": [
      "{'name': 'kiran', 'age': 20, 'loc': 'trichy', 'demo': 'try'}\n"
     ]
    }
   ],
   "source": [
    "a[\"demo\"] = \"try\" ## always add at last \n",
    "print(a)"
   ]
  },
  {
   "cell_type": "code",
   "execution_count": 69,
   "id": "ab544922",
   "metadata": {},
   "outputs": [
    {
     "name": "stdout",
     "output_type": "stream",
     "text": [
      "{'name': 'kiran', 'age': 20, 'loc': 'trichy', 'demo': 'try', 'height': '6.5'}\n"
     ]
    }
   ],
   "source": [
    "a[\"height\"] = \"6.5\"\n",
    "print(a)"
   ]
  },
  {
   "cell_type": "code",
   "execution_count": 80,
   "id": "9aeae444",
   "metadata": {},
   "outputs": [
    {
     "ename": "KeyError",
     "evalue": "'test'",
     "output_type": "error",
     "traceback": [
      "\u001b[1;31m---------------------------------------------------------------------------\u001b[0m",
      "\u001b[1;31mKeyError\u001b[0m                                  Traceback (most recent call last)",
      "Cell \u001b[1;32mIn[80], line 3\u001b[0m\n\u001b[0;32m      1\u001b[0m \u001b[38;5;66;03m##to get a value of key from dictionary \u001b[39;00m\n\u001b[0;32m      2\u001b[0m a[\u001b[38;5;124m\"\u001b[39m\u001b[38;5;124mname\u001b[39m\u001b[38;5;124m\"\u001b[39m]\n\u001b[1;32m----> 3\u001b[0m \u001b[43ma\u001b[49m\u001b[43m[\u001b[49m\u001b[38;5;124;43m\"\u001b[39;49m\u001b[38;5;124;43mtest\u001b[39;49m\u001b[38;5;124;43m\"\u001b[39;49m\u001b[43m]\u001b[49m\n",
      "\u001b[1;31mKeyError\u001b[0m: 'test'"
     ]
    }
   ],
   "source": [
    "##to get a value of key from dictionary \n",
    "a[\"name\"]\n",
    "a[\"test\"]  ## here test does not shows therefore it does not support"
   ]
  },
  {
   "cell_type": "code",
   "execution_count": 78,
   "id": "6af315f8",
   "metadata": {},
   "outputs": [
    {
     "data": {
      "text/plain": [
       "'kiran'"
      ]
     },
     "execution_count": 78,
     "metadata": {},
     "output_type": "execute_result"
    }
   ],
   "source": [
    "a.get(\"name\")"
   ]
  },
  {
   "cell_type": "code",
   "execution_count": 79,
   "id": "a0c7e994",
   "metadata": {},
   "outputs": [
    {
     "name": "stdout",
     "output_type": "stream",
     "text": [
      "kiran\n",
      "1\n"
     ]
    }
   ],
   "source": [
    "print(a.get(\"name\",1))\n",
    "print(a.get(\"test\",1))  ## as test is not there instead of showing none a default value can be added like 1 to get it"
   ]
  },
  {
   "cell_type": "code",
   "execution_count": 85,
   "id": "18aa2508",
   "metadata": {},
   "outputs": [
    {
     "name": "stdout",
     "output_type": "stream",
     "text": [
      "{'name': 'test', 'age': 20}\n"
     ]
    }
   ],
   "source": [
    "a={\"name\": \"arun\" ,\"age\" : 20 ,\"name\" : \"test\"}  ## in dictionary key should not be duplicate if given it will take the last one\n",
    "print(a)"
   ]
  },
  {
   "cell_type": "code",
   "execution_count": 86,
   "id": "314db548",
   "metadata": {},
   "outputs": [
    {
     "name": "stdout",
     "output_type": "stream",
     "text": [
      "{'name': 'test'}\n"
     ]
    }
   ],
   "source": [
    "b = a.popitem()\n",
    "print(a)"
   ]
  },
  {
   "cell_type": "code",
   "execution_count": 87,
   "id": "63f8e74c",
   "metadata": {},
   "outputs": [
    {
     "name": "stdout",
     "output_type": "stream",
     "text": [
      "('age', 20)\n"
     ]
    }
   ],
   "source": [
    "print(b)"
   ]
  },
  {
   "cell_type": "code",
   "execution_count": 88,
   "id": "64b2e5ab",
   "metadata": {},
   "outputs": [],
   "source": [
    "## operator\n",
    "## arithmets"
   ]
  },
  {
   "cell_type": "code",
   "execution_count": 89,
   "id": "985a5c2c",
   "metadata": {},
   "outputs": [
    {
     "name": "stdout",
     "output_type": "stream",
     "text": [
      "9\n",
      "1\n",
      "20\n",
      "625\n",
      "1.25\n",
      "1\n",
      "1\n"
     ]
    }
   ],
   "source": [
    "a=5\n",
    "b=4\n",
    "print(a+b)\n",
    "print(a-b)\n",
    "print(a*b)\n",
    "print(a**b) ## to the power of\n",
    "print(a/b)\n",
    "print(a//b) ## floor division , gives quotient\n",
    "print(a%b)  ## modulus , gives reminder"
   ]
  },
  {
   "cell_type": "code",
   "execution_count": 90,
   "id": "3469e907",
   "metadata": {},
   "outputs": [
    {
     "name": "stdout",
     "output_type": "stream",
     "text": [
      "False\n",
      "True\n",
      "True\n",
      "True\n",
      "False\n",
      "False\n"
     ]
    }
   ],
   "source": [
    "## relational\n",
    "a=5\n",
    "b=3\n",
    "print(a==b) # equal\n",
    "print(a!=b) # not equal\n",
    "print(a>b)\n",
    "print(a>=b)\n",
    "print(a<b)\n",
    "print(a<=b)"
   ]
  },
  {
   "cell_type": "code",
   "execution_count": 91,
   "id": "483c371b",
   "metadata": {},
   "outputs": [],
   "source": [
    "### to check whether the relation is equal we should use double ==\n",
    "### if we use single one it will become asignment operator"
   ]
  },
  {
   "cell_type": "code",
   "execution_count": 92,
   "id": "9a303330",
   "metadata": {},
   "outputs": [
    {
     "name": "stdout",
     "output_type": "stream",
     "text": [
      "10\n"
     ]
    }
   ],
   "source": [
    "## assignment \n",
    "a=5\n",
    "a = a+ 5\n",
    "print(a)"
   ]
  },
  {
   "cell_type": "code",
   "execution_count": 93,
   "id": "75e8ba6d",
   "metadata": {},
   "outputs": [
    {
     "name": "stdout",
     "output_type": "stream",
     "text": [
      "13\n"
     ]
    }
   ],
   "source": [
    "a+=3 \n",
    "print(a)"
   ]
  },
  {
   "cell_type": "code",
   "execution_count": 94,
   "id": "da6cf81f",
   "metadata": {},
   "outputs": [],
   "source": [
    "## logical\n",
    "## and , or , not"
   ]
  },
  {
   "cell_type": "code",
   "execution_count": 97,
   "id": "0b9bc5b1",
   "metadata": {},
   "outputs": [
    {
     "name": "stdout",
     "output_type": "stream",
     "text": [
      "True\n"
     ]
    }
   ],
   "source": [
    "print(True and True)  ## true and false should be in caps because it is syntax"
   ]
  },
  {
   "cell_type": "code",
   "execution_count": 98,
   "id": "88124d1f",
   "metadata": {},
   "outputs": [
    {
     "name": "stdout",
     "output_type": "stream",
     "text": [
      "False\n"
     ]
    }
   ],
   "source": [
    "print(True and False)"
   ]
  },
  {
   "cell_type": "code",
   "execution_count": 99,
   "id": "9b798e2c",
   "metadata": {},
   "outputs": [
    {
     "name": "stdout",
     "output_type": "stream",
     "text": [
      "True\n"
     ]
    }
   ],
   "source": [
    "print(True or True)"
   ]
  },
  {
   "cell_type": "code",
   "execution_count": 100,
   "id": "ef81bd86",
   "metadata": {},
   "outputs": [
    {
     "name": "stdout",
     "output_type": "stream",
     "text": [
      "True\n"
     ]
    }
   ],
   "source": [
    "print(True or False)"
   ]
  },
  {
   "cell_type": "code",
   "execution_count": 101,
   "id": "e6552cdb",
   "metadata": {},
   "outputs": [
    {
     "name": "stdout",
     "output_type": "stream",
     "text": [
      "False\n"
     ]
    }
   ],
   "source": [
    "print(not True)"
   ]
  },
  {
   "cell_type": "code",
   "execution_count": 102,
   "id": "bc4cde83",
   "metadata": {},
   "outputs": [
    {
     "name": "stdout",
     "output_type": "stream",
     "text": [
      "True\n"
     ]
    }
   ],
   "source": [
    "print(not False)"
   ]
  },
  {
   "cell_type": "code",
   "execution_count": null,
   "id": "61dea9f3",
   "metadata": {},
   "outputs": [],
   "source": []
  }
 ],
 "metadata": {
  "kernelspec": {
   "display_name": "Python 3 (ipykernel)",
   "language": "python",
   "name": "python3"
  },
  "language_info": {
   "codemirror_mode": {
    "name": "ipython",
    "version": 3
   },
   "file_extension": ".py",
   "mimetype": "text/x-python",
   "name": "python",
   "nbconvert_exporter": "python",
   "pygments_lexer": "ipython3",
   "version": "3.10.9"
  }
 },
 "nbformat": 4,
 "nbformat_minor": 5
}
